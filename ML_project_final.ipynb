{
  "cells": [
    {
      "cell_type": "markdown",
      "id": "3b412017",
      "metadata": {
        "id": "3b412017"
      },
      "source": [
        "In this Project we will be predicting that whether the patient have diabetes or not basis on the features we will provide to our machine learning models and for that we are using famous Diabetes Dataset from Kaggle."
      ]
    },
    {
      "cell_type": "code",
      "execution_count": null,
      "id": "ee4633d3",
      "metadata": {
        "id": "ee4633d3"
      },
      "outputs": [],
      "source": [
        "import pandas as pd  #importing all the required libraries\n",
        "import numpy as np\n",
        "import seaborn as sns\n",
        "import os\n",
        "from sklearn.model_selection import train_test_split\n",
        "from sklearn.preprocessing import StandardScaler"
      ]
    },
    {
      "cell_type": "code",
      "execution_count": null,
      "id": "1eda48fd",
      "metadata": {
        "id": "1eda48fd",
        "outputId": "6d2db63a-b616-4985-fe3f-9994ca942289"
      },
      "outputs": [
        {
          "data": {
            "text/plain": [
              "'/Users/ashwinivalmiki/Downloads'"
            ]
          },
          "execution_count": 2,
          "metadata": {},
          "output_type": "execute_result"
        }
      ],
      "source": [
        "os.getcwd()"
      ]
    },
    {
      "cell_type": "code",
      "execution_count": null,
      "id": "e3217de5",
      "metadata": {
        "id": "e3217de5",
        "outputId": "a7872936-0589-4844-abb1-a57c914fa20e"
      },
      "outputs": [
        {
          "data": {
            "text/html": [
              "<div>\n",
              "<style scoped>\n",
              "    .dataframe tbody tr th:only-of-type {\n",
              "        vertical-align: middle;\n",
              "    }\n",
              "\n",
              "    .dataframe tbody tr th {\n",
              "        vertical-align: top;\n",
              "    }\n",
              "\n",
              "    .dataframe thead th {\n",
              "        text-align: right;\n",
              "    }\n",
              "</style>\n",
              "<table border=\"1\" class=\"dataframe\">\n",
              "  <thead>\n",
              "    <tr style=\"text-align: right;\">\n",
              "      <th></th>\n",
              "      <th>Pregnancies</th>\n",
              "      <th>Glucose</th>\n",
              "      <th>BloodPressure</th>\n",
              "      <th>SkinThickness</th>\n",
              "      <th>Insulin</th>\n",
              "      <th>BMI</th>\n",
              "      <th>DiabetesPedigreeFunction</th>\n",
              "      <th>Age</th>\n",
              "      <th>Outcome</th>\n",
              "    </tr>\n",
              "  </thead>\n",
              "  <tbody>\n",
              "    <tr>\n",
              "      <th>0</th>\n",
              "      <td>6</td>\n",
              "      <td>148</td>\n",
              "      <td>72</td>\n",
              "      <td>35</td>\n",
              "      <td>0</td>\n",
              "      <td>33.6</td>\n",
              "      <td>0.627</td>\n",
              "      <td>50</td>\n",
              "      <td>1</td>\n",
              "    </tr>\n",
              "    <tr>\n",
              "      <th>1</th>\n",
              "      <td>1</td>\n",
              "      <td>85</td>\n",
              "      <td>66</td>\n",
              "      <td>29</td>\n",
              "      <td>0</td>\n",
              "      <td>26.6</td>\n",
              "      <td>0.351</td>\n",
              "      <td>31</td>\n",
              "      <td>0</td>\n",
              "    </tr>\n",
              "    <tr>\n",
              "      <th>2</th>\n",
              "      <td>8</td>\n",
              "      <td>183</td>\n",
              "      <td>64</td>\n",
              "      <td>0</td>\n",
              "      <td>0</td>\n",
              "      <td>23.3</td>\n",
              "      <td>0.672</td>\n",
              "      <td>32</td>\n",
              "      <td>1</td>\n",
              "    </tr>\n",
              "    <tr>\n",
              "      <th>3</th>\n",
              "      <td>1</td>\n",
              "      <td>89</td>\n",
              "      <td>66</td>\n",
              "      <td>23</td>\n",
              "      <td>94</td>\n",
              "      <td>28.1</td>\n",
              "      <td>0.167</td>\n",
              "      <td>21</td>\n",
              "      <td>0</td>\n",
              "    </tr>\n",
              "    <tr>\n",
              "      <th>4</th>\n",
              "      <td>0</td>\n",
              "      <td>137</td>\n",
              "      <td>40</td>\n",
              "      <td>35</td>\n",
              "      <td>168</td>\n",
              "      <td>43.1</td>\n",
              "      <td>2.288</td>\n",
              "      <td>33</td>\n",
              "      <td>1</td>\n",
              "    </tr>\n",
              "  </tbody>\n",
              "</table>\n",
              "</div>"
            ],
            "text/plain": [
              "   Pregnancies  Glucose  BloodPressure  SkinThickness  Insulin   BMI  \\\n",
              "0            6      148             72             35        0  33.6   \n",
              "1            1       85             66             29        0  26.6   \n",
              "2            8      183             64              0        0  23.3   \n",
              "3            1       89             66             23       94  28.1   \n",
              "4            0      137             40             35      168  43.1   \n",
              "\n",
              "   DiabetesPedigreeFunction  Age  Outcome  \n",
              "0                     0.627   50        1  \n",
              "1                     0.351   31        0  \n",
              "2                     0.672   32        1  \n",
              "3                     0.167   21        0  \n",
              "4                     2.288   33        1  "
            ]
          },
          "execution_count": 3,
          "metadata": {},
          "output_type": "execute_result"
        }
      ],
      "source": [
        "# Reading the datset \n",
        "df=pd.read_csv('/Users/ashwinivalmiki/Downloads/diabetes.csv')\n",
        "df.head()\n"
      ]
    },
    {
      "cell_type": "markdown",
      "id": "6928bf84",
      "metadata": {
        "id": "6928bf84"
      },
      "source": [
        "### Exploratory Data Analysis (EDA)"
      ]
    },
    {
      "cell_type": "code",
      "execution_count": null,
      "id": "f0cd892d",
      "metadata": {
        "id": "f0cd892d",
        "outputId": "cd73cbfa-173b-4303-b29c-98dd4373cc55"
      },
      "outputs": [
        {
          "data": {
            "text/plain": [
              "Index(['Pregnancies', 'Glucose', 'BloodPressure', 'SkinThickness', 'Insulin',\n",
              "       'BMI', 'DiabetesPedigreeFunction', 'Age', 'Outcome'],\n",
              "      dtype='object')"
            ]
          },
          "execution_count": 36,
          "metadata": {},
          "output_type": "execute_result"
        }
      ],
      "source": [
        "# seeing what are the columns available in our dataset.\n",
        "df.columns "
      ]
    },
    {
      "cell_type": "code",
      "execution_count": null,
      "id": "884ec085",
      "metadata": {
        "id": "884ec085",
        "outputId": "3f463a53-13f2-42b4-de5a-04e196344ad8"
      },
      "outputs": [
        {
          "name": "stdout",
          "output_type": "stream",
          "text": [
            "<class 'pandas.core.frame.DataFrame'>\n",
            "RangeIndex: 768 entries, 0 to 767\n",
            "Data columns (total 9 columns):\n",
            " #   Column                    Non-Null Count  Dtype  \n",
            "---  ------                    --------------  -----  \n",
            " 0   Pregnancies               768 non-null    int64  \n",
            " 1   Glucose                   768 non-null    int64  \n",
            " 2   BloodPressure             768 non-null    int64  \n",
            " 3   SkinThickness             768 non-null    int64  \n",
            " 4   Insulin                   768 non-null    int64  \n",
            " 5   BMI                       768 non-null    float64\n",
            " 6   DiabetesPedigreeFunction  768 non-null    float64\n",
            " 7   Age                       768 non-null    int64  \n",
            " 8   Outcome                   768 non-null    int64  \n",
            "dtypes: float64(2), int64(7)\n",
            "memory usage: 54.1 KB\n"
          ]
        }
      ],
      "source": [
        "# information about the dataset\n",
        "df.info() "
      ]
    },
    {
      "cell_type": "code",
      "execution_count": null,
      "id": "e3dcfc65",
      "metadata": {
        "id": "e3dcfc65",
        "outputId": "4786421b-7590-4510-adfd-ae3d9b254fe5"
      },
      "outputs": [
        {
          "data": {
            "text/html": [
              "<div>\n",
              "<style scoped>\n",
              "    .dataframe tbody tr th:only-of-type {\n",
              "        vertical-align: middle;\n",
              "    }\n",
              "\n",
              "    .dataframe tbody tr th {\n",
              "        vertical-align: top;\n",
              "    }\n",
              "\n",
              "    .dataframe thead th {\n",
              "        text-align: right;\n",
              "    }\n",
              "</style>\n",
              "<table border=\"1\" class=\"dataframe\">\n",
              "  <thead>\n",
              "    <tr style=\"text-align: right;\">\n",
              "      <th></th>\n",
              "      <th>count</th>\n",
              "      <th>mean</th>\n",
              "      <th>std</th>\n",
              "      <th>min</th>\n",
              "      <th>25%</th>\n",
              "      <th>50%</th>\n",
              "      <th>75%</th>\n",
              "      <th>max</th>\n",
              "    </tr>\n",
              "  </thead>\n",
              "  <tbody>\n",
              "    <tr>\n",
              "      <th>Pregnancies</th>\n",
              "      <td>768.0</td>\n",
              "      <td>3.845052</td>\n",
              "      <td>3.369578</td>\n",
              "      <td>0.000</td>\n",
              "      <td>1.00000</td>\n",
              "      <td>3.0000</td>\n",
              "      <td>6.00000</td>\n",
              "      <td>17.00</td>\n",
              "    </tr>\n",
              "    <tr>\n",
              "      <th>Glucose</th>\n",
              "      <td>768.0</td>\n",
              "      <td>120.894531</td>\n",
              "      <td>31.972618</td>\n",
              "      <td>0.000</td>\n",
              "      <td>99.00000</td>\n",
              "      <td>117.0000</td>\n",
              "      <td>140.25000</td>\n",
              "      <td>199.00</td>\n",
              "    </tr>\n",
              "    <tr>\n",
              "      <th>BloodPressure</th>\n",
              "      <td>768.0</td>\n",
              "      <td>69.105469</td>\n",
              "      <td>19.355807</td>\n",
              "      <td>0.000</td>\n",
              "      <td>62.00000</td>\n",
              "      <td>72.0000</td>\n",
              "      <td>80.00000</td>\n",
              "      <td>122.00</td>\n",
              "    </tr>\n",
              "    <tr>\n",
              "      <th>SkinThickness</th>\n",
              "      <td>768.0</td>\n",
              "      <td>20.536458</td>\n",
              "      <td>15.952218</td>\n",
              "      <td>0.000</td>\n",
              "      <td>0.00000</td>\n",
              "      <td>23.0000</td>\n",
              "      <td>32.00000</td>\n",
              "      <td>99.00</td>\n",
              "    </tr>\n",
              "    <tr>\n",
              "      <th>Insulin</th>\n",
              "      <td>768.0</td>\n",
              "      <td>79.799479</td>\n",
              "      <td>115.244002</td>\n",
              "      <td>0.000</td>\n",
              "      <td>0.00000</td>\n",
              "      <td>30.5000</td>\n",
              "      <td>127.25000</td>\n",
              "      <td>846.00</td>\n",
              "    </tr>\n",
              "    <tr>\n",
              "      <th>BMI</th>\n",
              "      <td>768.0</td>\n",
              "      <td>31.992578</td>\n",
              "      <td>7.884160</td>\n",
              "      <td>0.000</td>\n",
              "      <td>27.30000</td>\n",
              "      <td>32.0000</td>\n",
              "      <td>36.60000</td>\n",
              "      <td>67.10</td>\n",
              "    </tr>\n",
              "    <tr>\n",
              "      <th>DiabetesPedigreeFunction</th>\n",
              "      <td>768.0</td>\n",
              "      <td>0.471876</td>\n",
              "      <td>0.331329</td>\n",
              "      <td>0.078</td>\n",
              "      <td>0.24375</td>\n",
              "      <td>0.3725</td>\n",
              "      <td>0.62625</td>\n",
              "      <td>2.42</td>\n",
              "    </tr>\n",
              "    <tr>\n",
              "      <th>Age</th>\n",
              "      <td>768.0</td>\n",
              "      <td>33.240885</td>\n",
              "      <td>11.760232</td>\n",
              "      <td>21.000</td>\n",
              "      <td>24.00000</td>\n",
              "      <td>29.0000</td>\n",
              "      <td>41.00000</td>\n",
              "      <td>81.00</td>\n",
              "    </tr>\n",
              "    <tr>\n",
              "      <th>Outcome</th>\n",
              "      <td>768.0</td>\n",
              "      <td>0.348958</td>\n",
              "      <td>0.476951</td>\n",
              "      <td>0.000</td>\n",
              "      <td>0.00000</td>\n",
              "      <td>0.0000</td>\n",
              "      <td>1.00000</td>\n",
              "      <td>1.00</td>\n",
              "    </tr>\n",
              "  </tbody>\n",
              "</table>\n",
              "</div>"
            ],
            "text/plain": [
              "                          count        mean         std     min       25%  \\\n",
              "Pregnancies               768.0    3.845052    3.369578   0.000   1.00000   \n",
              "Glucose                   768.0  120.894531   31.972618   0.000  99.00000   \n",
              "BloodPressure             768.0   69.105469   19.355807   0.000  62.00000   \n",
              "SkinThickness             768.0   20.536458   15.952218   0.000   0.00000   \n",
              "Insulin                   768.0   79.799479  115.244002   0.000   0.00000   \n",
              "BMI                       768.0   31.992578    7.884160   0.000  27.30000   \n",
              "DiabetesPedigreeFunction  768.0    0.471876    0.331329   0.078   0.24375   \n",
              "Age                       768.0   33.240885   11.760232  21.000  24.00000   \n",
              "Outcome                   768.0    0.348958    0.476951   0.000   0.00000   \n",
              "\n",
              "                               50%        75%     max  \n",
              "Pregnancies                 3.0000    6.00000   17.00  \n",
              "Glucose                   117.0000  140.25000  199.00  \n",
              "BloodPressure              72.0000   80.00000  122.00  \n",
              "SkinThickness              23.0000   32.00000   99.00  \n",
              "Insulin                    30.5000  127.25000  846.00  \n",
              "BMI                        32.0000   36.60000   67.10  \n",
              "DiabetesPedigreeFunction    0.3725    0.62625    2.42  \n",
              "Age                        29.0000   41.00000   81.00  \n",
              "Outcome                     0.0000    1.00000    1.00  "
            ]
          },
          "execution_count": 38,
          "metadata": {},
          "output_type": "execute_result"
        }
      ],
      "source": [
        "# Knowing more about the dataset with transpose,i.e T is for transpose\n",
        "df.describe().T "
      ]
    },
    {
      "cell_type": "code",
      "execution_count": null,
      "id": "29a904bb",
      "metadata": {
        "id": "29a904bb",
        "outputId": "d120c29a-9bd2-4f18-9375-ffc195ec9d14"
      },
      "outputs": [
        {
          "data": {
            "text/plain": [
              "Pregnancies                 0\n",
              "Glucose                     0\n",
              "BloodPressure               0\n",
              "SkinThickness               0\n",
              "Insulin                     0\n",
              "BMI                         0\n",
              "DiabetesPedigreeFunction    0\n",
              "Age                         0\n",
              "Outcome                     0\n",
              "dtype: int64"
            ]
          },
          "execution_count": 4,
          "metadata": {},
          "output_type": "execute_result"
        }
      ],
      "source": [
        "#Checking null values \n",
        "df.isnull().sum()"
      ]
    },
    {
      "cell_type": "markdown",
      "id": "a834257c",
      "metadata": {
        "id": "a834257c"
      },
      "source": [
        "From the above code we checked that there is any null values by isnull() function.Then we take the sum of all those missing values by sum()function.Here it shows no missing values but actually in this dataset all the missing values were given 0 as a value.So we are replacing 0 values to NAN values."
      ]
    },
    {
      "cell_type": "code",
      "execution_count": null,
      "id": "302f1ce6",
      "metadata": {
        "id": "302f1ce6",
        "outputId": "08108037-9e81-41f1-c477-c3f27ef96575"
      },
      "outputs": [
        {
          "name": "stdout",
          "output_type": "stream",
          "text": [
            "Pregnancies                   0\n",
            "Glucose                       5\n",
            "BloodPressure                35\n",
            "SkinThickness               227\n",
            "Insulin                     374\n",
            "BMI                          11\n",
            "DiabetesPedigreeFunction      0\n",
            "Age                           0\n",
            "Outcome                       0\n",
            "dtype: int64\n"
          ]
        }
      ],
      "source": [
        "df_copy = df.copy(deep = True)\n",
        "df_copy[['Glucose','BloodPressure','SkinThickness','Insulin','BMI']] = df_copy[['Glucose','BloodPressure','SkinThickness','Insulin','BMI']].replace(0,np.NaN)\n",
        "\n",
        "# Showing the Count of NANs\n",
        "print(df_copy.isnull().sum())"
      ]
    },
    {
      "cell_type": "markdown",
      "id": "611ca20d",
      "metadata": {
        "id": "611ca20d"
      },
      "source": [
        "In the above code we have replaced the 0's with NAN values,so we can impute it later.For maintaining the authenticity as well as to have better Imputation approach we apply mean values of every column to the null values of the particular columns."
      ]
    },
    {
      "cell_type": "markdown",
      "id": "f129c946",
      "metadata": {
        "id": "f129c946"
      },
      "source": [
        "### Data Visualization"
      ]
    },
    {
      "cell_type": "code",
      "execution_count": null,
      "id": "c4bbe181",
      "metadata": {
        "id": "c4bbe181",
        "outputId": "cbaf433a-5e98-4a91-8686-f6c6ee9dc30b"
      },
      "outputs": [
        {
          "data": {
            "text/plain": [
              "array([[<AxesSubplot:title={'center':'Pregnancies'}>,\n",
              "        <AxesSubplot:title={'center':'Glucose'}>,\n",
              "        <AxesSubplot:title={'center':'BloodPressure'}>],\n",
              "       [<AxesSubplot:title={'center':'SkinThickness'}>,\n",
              "        <AxesSubplot:title={'center':'Insulin'}>,\n",
              "        <AxesSubplot:title={'center':'BMI'}>],\n",
              "       [<AxesSubplot:title={'center':'DiabetesPedigreeFunction'}>,\n",
              "        <AxesSubplot:title={'center':'Age'}>,\n",
              "        <AxesSubplot:title={'center':'Outcome'}>]], dtype=object)"
            ]
          },
          "execution_count": 44,
          "metadata": {},
          "output_type": "execute_result"
        },
        {
          "data": {
            "image/png": "[encoded data removed]",
            "text/plain": [
              "<Figure size 1500x1500 with 9 Axes>"
            ]
          },
          "metadata": {},
          "output_type": "display_data"
        }
      ],
      "source": [
        "# Plotting the data distribution plots before removing null values \n",
        "df.hist(figsize = (15,15))"
      ]
    },
    {
      "cell_type": "markdown",
      "id": "837b188b",
      "metadata": {
        "id": "837b188b"
      },
      "source": [
        "Above we can see the distribution of each features using the hist plot.This helps us to analyze the dataset,as this shows every occurence in graphical structure, we can know the range of the data. "
      ]
    },
    {
      "cell_type": "code",
      "execution_count": null,
      "id": "79a37396",
      "metadata": {
        "id": "79a37396"
      },
      "outputs": [],
      "source": [
        "# Now we will be imputing the mean value of the column to each missing value of that particular column\n",
        "df_copy['Glucose'].fillna(df_copy['Glucose'].mean(), inplace = True)\n",
        "df_copy['BloodPressure'].fillna(df_copy['BloodPressure'].mean(), inplace = True)\n",
        "df_copy['SkinThickness'].fillna(df_copy['SkinThickness'].median(), inplace = True)\n",
        "df_copy['Insulin'].fillna(df_copy['Insulin'].median(), inplace = True)\n",
        "df_copy['BMI'].fillna(df_copy['BMI'].median(), inplace = True)\n"
      ]
    },
    {
      "cell_type": "code",
      "execution_count": null,
      "id": "9d7e9b8f",
      "metadata": {
        "id": "9d7e9b8f",
        "outputId": "fb8fc394-bde9-43ed-d196-cb53a64c0194"
      },
      "outputs": [
        {
          "data": {
            "text/plain": [
              "array([[<AxesSubplot:title={'center':'Pregnancies'}>,\n",
              "        <AxesSubplot:title={'center':'Glucose'}>,\n",
              "        <AxesSubplot:title={'center':'BloodPressure'}>],\n",
              "       [<AxesSubplot:title={'center':'SkinThickness'}>,\n",
              "        <AxesSubplot:title={'center':'Insulin'}>,\n",
              "        <AxesSubplot:title={'center':'BMI'}>],\n",
              "       [<AxesSubplot:title={'center':'DiabetesPedigreeFunction'}>,\n",
              "        <AxesSubplot:title={'center':'Age'}>,\n",
              "        <AxesSubplot:title={'center':'Outcome'}>]], dtype=object)"
            ]
          },
          "execution_count": 47,
          "metadata": {},
          "output_type": "execute_result"
        },
        {
          "data": {
            "image/png": "[encoded data removed]",
            "text/plain": [
              "<Figure size 1500x1500 with 9 Axes>"
            ]
          },
          "metadata": {},
          "output_type": "display_data"
        }
      ],
      "source": [
        "df_copy.hist(figsize=(15,15))"
      ]
    },
    {
      "cell_type": "markdown",
      "id": "4037f813",
      "metadata": {
        "id": "4037f813"
      },
      "source": [
        "Here we can see the changes after the null values are removed from dataset."
      ]
    },
    {
      "cell_type": "code",
      "execution_count": null,
      "id": "32000f30",
      "metadata": {
        "id": "32000f30"
      },
      "outputs": [],
      "source": [
        "X1=df_copy.drop('Outcome',axis=1).values   #Independent features\n",
        "y1=df_copy.Outcome  #Dependent features\n"
      ]
    },
    {
      "cell_type": "markdown",
      "id": "22473065",
      "metadata": {
        "id": "22473065"
      },
      "source": [
        "### Scaling the data"
      ]
    },
    {
      "cell_type": "code",
      "execution_count": null,
      "id": "ad706635",
      "metadata": {
        "id": "ad706635",
        "outputId": "db843ad8-dfaa-414f-f39e-f41219029b1a"
      },
      "outputs": [
        {
          "data": {
            "text/html": [
              "<div>\n",
              "<style scoped>\n",
              "    .dataframe tbody tr th:only-of-type {\n",
              "        vertical-align: middle;\n",
              "    }\n",
              "\n",
              "    .dataframe tbody tr th {\n",
              "        vertical-align: top;\n",
              "    }\n",
              "\n",
              "    .dataframe thead th {\n",
              "        text-align: right;\n",
              "    }\n",
              "</style>\n",
              "<table border=\"1\" class=\"dataframe\">\n",
              "  <thead>\n",
              "    <tr style=\"text-align: right;\">\n",
              "      <th></th>\n",
              "      <th>0</th>\n",
              "      <th>1</th>\n",
              "      <th>2</th>\n",
              "      <th>3</th>\n",
              "      <th>4</th>\n",
              "      <th>5</th>\n",
              "      <th>6</th>\n",
              "      <th>7</th>\n",
              "    </tr>\n",
              "  </thead>\n",
              "  <tbody>\n",
              "    <tr>\n",
              "      <th>0</th>\n",
              "      <td>0.639947</td>\n",
              "      <td>0.865108</td>\n",
              "      <td>-0.033518</td>\n",
              "      <td>0.670643</td>\n",
              "      <td>-0.181541</td>\n",
              "      <td>0.166619</td>\n",
              "      <td>0.468492</td>\n",
              "      <td>1.425995</td>\n",
              "    </tr>\n",
              "    <tr>\n",
              "      <th>1</th>\n",
              "      <td>-0.844885</td>\n",
              "      <td>-1.206162</td>\n",
              "      <td>-0.529859</td>\n",
              "      <td>-0.012301</td>\n",
              "      <td>-0.181541</td>\n",
              "      <td>-0.852200</td>\n",
              "      <td>-0.365061</td>\n",
              "      <td>-0.190672</td>\n",
              "    </tr>\n",
              "    <tr>\n",
              "      <th>2</th>\n",
              "      <td>1.233880</td>\n",
              "      <td>2.015813</td>\n",
              "      <td>-0.695306</td>\n",
              "      <td>-0.012301</td>\n",
              "      <td>-0.181541</td>\n",
              "      <td>-1.332500</td>\n",
              "      <td>0.604397</td>\n",
              "      <td>-0.105584</td>\n",
              "    </tr>\n",
              "    <tr>\n",
              "      <th>3</th>\n",
              "      <td>-0.844885</td>\n",
              "      <td>-1.074652</td>\n",
              "      <td>-0.529859</td>\n",
              "      <td>-0.695245</td>\n",
              "      <td>-0.540642</td>\n",
              "      <td>-0.633881</td>\n",
              "      <td>-0.920763</td>\n",
              "      <td>-1.041549</td>\n",
              "    </tr>\n",
              "    <tr>\n",
              "      <th>4</th>\n",
              "      <td>-1.141852</td>\n",
              "      <td>0.503458</td>\n",
              "      <td>-2.680669</td>\n",
              "      <td>0.670643</td>\n",
              "      <td>0.316566</td>\n",
              "      <td>1.549303</td>\n",
              "      <td>5.484909</td>\n",
              "      <td>-0.020496</td>\n",
              "    </tr>\n",
              "  </tbody>\n",
              "</table>\n",
              "</div>"
            ],
            "text/plain": [
              "          0         1         2         3         4         5         6  \\\n",
              "0  0.639947  0.865108 -0.033518  0.670643 -0.181541  0.166619  0.468492   \n",
              "1 -0.844885 -1.206162 -0.529859 -0.012301 -0.181541 -0.852200 -0.365061   \n",
              "2  1.233880  2.015813 -0.695306 -0.012301 -0.181541 -1.332500  0.604397   \n",
              "3 -0.844885 -1.074652 -0.529859 -0.695245 -0.540642 -0.633881 -0.920763   \n",
              "4 -1.141852  0.503458 -2.680669  0.670643  0.316566  1.549303  5.484909   \n",
              "\n",
              "          7  \n",
              "0  1.425995  \n",
              "1 -0.190672  \n",
              "2 -0.105584  \n",
              "3 -1.041549  \n",
              "4 -0.020496  "
            ]
          },
          "execution_count": 115,
          "metadata": {},
          "output_type": "execute_result"
        }
      ],
      "source": [
        "x_sc= StandardScaler()\n",
        "X1 =  pd.DataFrame(x_sc.fit_transform(X1))\n",
        "X1.head()\n",
        "\n"
      ]
    },
    {
      "cell_type": "markdown",
      "id": "28e87705",
      "metadata": {
        "id": "28e87705"
      },
      "source": [
        "Now we can see that every value is scaled down on the same scale which will help our ML model to give better results"
      ]
    },
    {
      "cell_type": "code",
      "execution_count": null,
      "id": "531cf4df",
      "metadata": {
        "id": "531cf4df",
        "outputId": "d314b42a-b1f0-4ffd-fa8a-8a08e47cd7e6"
      },
      "outputs": [
        {
          "data": {
            "text/plain": [
              "0      1\n",
              "1      0\n",
              "2      1\n",
              "3      0\n",
              "4      1\n",
              "      ..\n",
              "763    0\n",
              "764    0\n",
              "765    0\n",
              "766    1\n",
              "767    0\n",
              "Name: Outcome, Length: 768, dtype: int64"
            ]
          },
          "execution_count": 116,
          "metadata": {},
          "output_type": "execute_result"
        }
      ],
      "source": [
        "y1"
      ]
    },
    {
      "cell_type": "markdown",
      "id": "2bc97e83",
      "metadata": {
        "id": "2bc97e83"
      },
      "source": [
        "### Model Building"
      ]
    },
    {
      "cell_type": "markdown",
      "id": "822915c5",
      "metadata": {
        "id": "822915c5"
      },
      "source": [
        "Splitting the dataset"
      ]
    },
    {
      "cell_type": "code",
      "execution_count": null,
      "id": "979ed59a",
      "metadata": {
        "id": "979ed59a"
      },
      "outputs": [],
      "source": [
        "X1_train,X1_test,y1_train,y1_test=train_test_split(X1,y1,test_size=0.2,random_state=42)\n"
      ]
    },
    {
      "cell_type": "code",
      "execution_count": null,
      "id": "2b194b1a",
      "metadata": {
        "id": "2b194b1a",
        "outputId": "2d3b699e-cf17-45fd-cb12-c0bf0556362e"
      },
      "outputs": [
        {
          "name": "stdout",
          "output_type": "stream",
          "text": [
            "Total number of rows: {0} 768\n",
            "Number of rows missing Pregnancies: {0} 111\n",
            "Number of rows missing Glucose: {0} 5\n",
            "Number of rows missing BloodPressure: {0} 35\n",
            "Number of rows missing SkinThickness: {0} 227\n",
            "Number of rows missing Insulin: {0} 374\n",
            "Number of rows missing BMI: {0} 11\n",
            "Number of rows missing DiabetesPedigreeFunction: {0} 0\n",
            "Number of rows missing Age: {0} 0\n"
          ]
        }
      ],
      "source": [
        "# Checking how many missing values in each column.\n",
        "print(\"Total number of rows: {0}\", format(len(df)))\n",
        "print(\"Number of rows missing Pregnancies: {0}\",\n",
        "      format(len(df.loc[df['Pregnancies']==0])))\n",
        "print(\"Number of rows missing Glucose: {0}\"\n",
        "      , format(len(df.loc[df['Glucose']==0])))\n",
        "print(\"Number of rows missing BloodPressure: {0}\",\n",
        "      format(len(df.loc[df['BloodPressure']==0])))\n",
        "print(\"Number of rows missing SkinThickness: {0}\",\n",
        "      format(len(df.loc[df['SkinThickness']==0])))\n",
        "print(\"Number of rows missing Insulin: {0}\",\n",
        "      format(len(df.loc[df['Insulin']==0])))\n",
        "print(\"Number of rows missing BMI: {0}\",\n",
        "      format(len(df.loc[df['BMI']==0])))\n",
        "print(\"Number of rows missing DiabetesPedigreeFunction: {0}\",\n",
        "      format(len(df.loc[df['DiabetesPedigreeFunction']==0])))\n",
        "print(\"Number of rows missing Age: {0}\", format(len(df.loc[df['Age']==0])))\n",
        "\n"
      ]
    },
    {
      "cell_type": "code",
      "execution_count": null,
      "id": "4e7f4f02",
      "metadata": {
        "id": "4e7f4f02"
      },
      "outputs": [],
      "source": [
        "#Imputing zeros values in the dataset\n",
        "\n",
        "from sklearn.impute import SimpleImputer\n",
        "\n",
        "\n",
        "fill_value = SimpleImputer(missing_values=0, strategy='mean')\n",
        "X1_train = fill_value.fit_transform(X1_train)\n",
        "X1_test = fill_value.fit_transform(X1_test)\n"
      ]
    },
    {
      "cell_type": "code",
      "execution_count": null,
      "id": "ee32be32",
      "metadata": {
        "id": "ee32be32"
      },
      "outputs": [],
      "source": [
        "from sklearn.tree import DecisionTreeClassifier\n",
        "from sklearn.ensemble import RandomForestClassifier\n",
        "from sklearn import metrics\n",
        "from sklearn.metrics import accuracy_score\n",
        "\n",
        "\n"
      ]
    },
    {
      "cell_type": "code",
      "execution_count": null,
      "id": "ef44e87c",
      "metadata": {
        "id": "ef44e87c",
        "outputId": "af691bf2-59f8-42f6-f868-6bb0cc923314"
      },
      "outputs": [
        {
          "data": {
            "text/html": [
              "<style>#sk-container-id-9 {color: black;background-color: white;}#sk-container-id-9 pre{padding: 0;}#sk-container-id-9 div.sk-toggleable {background-color: white;}#sk-container-id-9 label.sk-toggleable__label {cursor: pointer;display: block;width: 100%;margin-bottom: 0;padding: 0.3em;box-sizing: border-box;text-align: center;}#sk-container-id-9 label.sk-toggleable__label-arrow:before {content: \"▸\";float: left;margin-right: 0.25em;color: #696969;}#sk-container-id-9 label.sk-toggleable__label-arrow:hover:before {color: black;}#sk-container-id-9 div.sk-estimator:hover label.sk-toggleable__label-arrow:before {color: black;}#sk-container-id-9 div.sk-toggleable__content {max-height: 0;max-width: 0;overflow: hidden;text-align: left;background-color: #f0f8ff;}#sk-container-id-9 div.sk-toggleable__content pre {margin: 0.2em;color: black;border-radius: 0.25em;background-color: #f0f8ff;}#sk-container-id-9 input.sk-toggleable__control:checked~div.sk-toggleable__content {max-height: 200px;max-width: 100%;overflow: auto;}#sk-container-id-9 input.sk-toggleable__control:checked~label.sk-toggleable__label-arrow:before {content: \"▾\";}#sk-container-id-9 div.sk-estimator input.sk-toggleable__control:checked~label.sk-toggleable__label {background-color: #d4ebff;}#sk-container-id-9 div.sk-label input.sk-toggleable__control:checked~label.sk-toggleable__label {background-color: #d4ebff;}#sk-container-id-9 input.sk-hidden--visually {border: 0;clip: rect(1px 1px 1px 1px);clip: rect(1px, 1px, 1px, 1px);height: 1px;margin: -1px;overflow: hidden;padding: 0;position: absolute;width: 1px;}#sk-container-id-9 div.sk-estimator {font-family: monospace;background-color: #f0f8ff;border: 1px dotted black;border-radius: 0.25em;box-sizing: border-box;margin-bottom: 0.5em;}#sk-container-id-9 div.sk-estimator:hover {background-color: #d4ebff;}#sk-container-id-9 div.sk-parallel-item::after {content: \"\";width: 100%;border-bottom: 1px solid gray;flex-grow: 1;}#sk-container-id-9 div.sk-label:hover label.sk-toggleable__label {background-color: #d4ebff;}#sk-container-id-9 div.sk-serial::before {content: \"\";position: absolute;border-left: 1px solid gray;box-sizing: border-box;top: 0;bottom: 0;left: 50%;z-index: 0;}#sk-container-id-9 div.sk-serial {display: flex;flex-direction: column;align-items: center;background-color: white;padding-right: 0.2em;padding-left: 0.2em;position: relative;}#sk-container-id-9 div.sk-item {position: relative;z-index: 1;}#sk-container-id-9 div.sk-parallel {display: flex;align-items: stretch;justify-content: center;background-color: white;position: relative;}#sk-container-id-9 div.sk-item::before, #sk-container-id-9 div.sk-parallel-item::before {content: \"\";position: absolute;border-left: 1px solid gray;box-sizing: border-box;top: 0;bottom: 0;left: 50%;z-index: -1;}#sk-container-id-9 div.sk-parallel-item {display: flex;flex-direction: column;z-index: 1;position: relative;background-color: white;}#sk-container-id-9 div.sk-parallel-item:first-child::after {align-self: flex-end;width: 50%;}#sk-container-id-9 div.sk-parallel-item:last-child::after {align-self: flex-start;width: 50%;}#sk-container-id-9 div.sk-parallel-item:only-child::after {width: 0;}#sk-container-id-9 div.sk-dashed-wrapped {border: 1px dashed gray;margin: 0 0.4em 0.5em 0.4em;box-sizing: border-box;padding-bottom: 0.4em;background-color: white;}#sk-container-id-9 div.sk-label label {font-family: monospace;font-weight: bold;display: inline-block;line-height: 1.2em;}#sk-container-id-9 div.sk-label-container {text-align: center;}#sk-container-id-9 div.sk-container {/* jupyter's `normalize.less` sets `[hidden] { display: none; }` but bootstrap.min.css set `[hidden] { display: none !important; }` so we also need the `!important` here to be able to override the default hidden behavior on the sphinx rendered scikit-learn.org. See: https://github.com/scikit-learn/scikit-learn/issues/21755 */display: inline-block !important;position: relative;}#sk-container-id-9 div.sk-text-repr-fallback {display: none;}</style><div id=\"sk-container-id-9\" class=\"sk-top-container\"><div class=\"sk-text-repr-fallback\"><pre>RandomForestClassifier(n_estimators=200)</pre><b>In a Jupyter environment, please rerun this cell to show the HTML representation or trust the notebook. <br />On GitHub, the HTML representation is unable to render, please try loading this page with nbviewer.org.</b></div><div class=\"sk-container\" hidden><div class=\"sk-item\"><div class=\"sk-estimator sk-toggleable\"><input class=\"sk-toggleable__control sk-hidden--visually\" id=\"sk-estimator-id-9\" type=\"checkbox\" checked><label for=\"sk-estimator-id-9\" class=\"sk-toggleable__label sk-toggleable__label-arrow\">RandomForestClassifier</label><div class=\"sk-toggleable__content\"><pre>RandomForestClassifier(n_estimators=200)</pre></div></div></div></div></div>"
            ],
            "text/plain": [
              "RandomForestClassifier(n_estimators=200)"
            ]
          },
          "execution_count": 121,
          "metadata": {},
          "output_type": "execute_result"
        }
      ],
      "source": [
        "# Building the model using RandomForest on training data\n",
        "model1 = RandomForestClassifier(n_estimators=200)\n",
        "model1.fit(X1_train, y1_train)\n"
      ]
    },
    {
      "cell_type": "code",
      "execution_count": null,
      "id": "cfde8c8b",
      "metadata": {
        "id": "cfde8c8b"
      },
      "outputs": [],
      "source": [
        "predictions_1=model1.predict(X1_test)"
      ]
    },
    {
      "cell_type": "code",
      "execution_count": null,
      "id": "645f46a9",
      "metadata": {
        "id": "645f46a9",
        "outputId": "c10d965f-caee-42d4-992d-e4efb53f4127"
      },
      "outputs": [
        {
          "data": {
            "text/plain": [
              "0.7467532467532467"
            ]
          },
          "execution_count": 158,
          "metadata": {},
          "output_type": "execute_result"
        }
      ],
      "source": [
        "score1=accuracy_score(y1_test,predictions_1)\n",
        "score1"
      ]
    },
    {
      "cell_type": "markdown",
      "id": "e1be8232",
      "metadata": {
        "id": "e1be8232"
      },
      "source": [
        "Accuracy score of RandomForest model is 0.74"
      ]
    },
    {
      "cell_type": "code",
      "execution_count": null,
      "id": "1da314ab",
      "metadata": {
        "id": "1da314ab",
        "outputId": "3e3683e9-1a41-4817-cf98-cfda8727a642"
      },
      "outputs": [
        {
          "name": "stdout",
          "output_type": "stream",
          "text": [
            "[[78 21]\n",
            " [18 37]]\n",
            "              precision    recall  f1-score   support\n",
            "\n",
            "           0       0.81      0.79      0.80        99\n",
            "           1       0.64      0.67      0.65        55\n",
            "\n",
            "    accuracy                           0.75       154\n",
            "   macro avg       0.73      0.73      0.73       154\n",
            "weighted avg       0.75      0.75      0.75       154\n",
            "\n"
          ]
        }
      ],
      "source": [
        "from sklearn.metrics import classification_report, confusion_matrix\n",
        "\n",
        "print(confusion_matrix(y_test, predictions_1))\n",
        "print(classification_report(y1_test,predictions_1))"
      ]
    },
    {
      "cell_type": "code",
      "execution_count": null,
      "id": "9ef05346",
      "metadata": {
        "id": "9ef05346",
        "outputId": "5118f826-012b-4d17-cb08-21908c24a7c0"
      },
      "outputs": [
        {
          "data": {
            "text/html": [
              "<style>#sk-container-id-14 {color: black;background-color: white;}#sk-container-id-14 pre{padding: 0;}#sk-container-id-14 div.sk-toggleable {background-color: white;}#sk-container-id-14 label.sk-toggleable__label {cursor: pointer;display: block;width: 100%;margin-bottom: 0;padding: 0.3em;box-sizing: border-box;text-align: center;}#sk-container-id-14 label.sk-toggleable__label-arrow:before {content: \"▸\";float: left;margin-right: 0.25em;color: #696969;}#sk-container-id-14 label.sk-toggleable__label-arrow:hover:before {color: black;}#sk-container-id-14 div.sk-estimator:hover label.sk-toggleable__label-arrow:before {color: black;}#sk-container-id-14 div.sk-toggleable__content {max-height: 0;max-width: 0;overflow: hidden;text-align: left;background-color: #f0f8ff;}#sk-container-id-14 div.sk-toggleable__content pre {margin: 0.2em;color: black;border-radius: 0.25em;background-color: #f0f8ff;}#sk-container-id-14 input.sk-toggleable__control:checked~div.sk-toggleable__content {max-height: 200px;max-width: 100%;overflow: auto;}#sk-container-id-14 input.sk-toggleable__control:checked~label.sk-toggleable__label-arrow:before {content: \"▾\";}#sk-container-id-14 div.sk-estimator input.sk-toggleable__control:checked~label.sk-toggleable__label {background-color: #d4ebff;}#sk-container-id-14 div.sk-label input.sk-toggleable__control:checked~label.sk-toggleable__label {background-color: #d4ebff;}#sk-container-id-14 input.sk-hidden--visually {border: 0;clip: rect(1px 1px 1px 1px);clip: rect(1px, 1px, 1px, 1px);height: 1px;margin: -1px;overflow: hidden;padding: 0;position: absolute;width: 1px;}#sk-container-id-14 div.sk-estimator {font-family: monospace;background-color: #f0f8ff;border: 1px dotted black;border-radius: 0.25em;box-sizing: border-box;margin-bottom: 0.5em;}#sk-container-id-14 div.sk-estimator:hover {background-color: #d4ebff;}#sk-container-id-14 div.sk-parallel-item::after {content: \"\";width: 100%;border-bottom: 1px solid gray;flex-grow: 1;}#sk-container-id-14 div.sk-label:hover label.sk-toggleable__label {background-color: #d4ebff;}#sk-container-id-14 div.sk-serial::before {content: \"\";position: absolute;border-left: 1px solid gray;box-sizing: border-box;top: 0;bottom: 0;left: 50%;z-index: 0;}#sk-container-id-14 div.sk-serial {display: flex;flex-direction: column;align-items: center;background-color: white;padding-right: 0.2em;padding-left: 0.2em;position: relative;}#sk-container-id-14 div.sk-item {position: relative;z-index: 1;}#sk-container-id-14 div.sk-parallel {display: flex;align-items: stretch;justify-content: center;background-color: white;position: relative;}#sk-container-id-14 div.sk-item::before, #sk-container-id-14 div.sk-parallel-item::before {content: \"\";position: absolute;border-left: 1px solid gray;box-sizing: border-box;top: 0;bottom: 0;left: 50%;z-index: -1;}#sk-container-id-14 div.sk-parallel-item {display: flex;flex-direction: column;z-index: 1;position: relative;background-color: white;}#sk-container-id-14 div.sk-parallel-item:first-child::after {align-self: flex-end;width: 50%;}#sk-container-id-14 div.sk-parallel-item:last-child::after {align-self: flex-start;width: 50%;}#sk-container-id-14 div.sk-parallel-item:only-child::after {width: 0;}#sk-container-id-14 div.sk-dashed-wrapped {border: 1px dashed gray;margin: 0 0.4em 0.5em 0.4em;box-sizing: border-box;padding-bottom: 0.4em;background-color: white;}#sk-container-id-14 div.sk-label label {font-family: monospace;font-weight: bold;display: inline-block;line-height: 1.2em;}#sk-container-id-14 div.sk-label-container {text-align: center;}#sk-container-id-14 div.sk-container {/* jupyter's `normalize.less` sets `[hidden] { display: none; }` but bootstrap.min.css set `[hidden] { display: none !important; }` so we also need the `!important` here to be able to override the default hidden behavior on the sphinx rendered scikit-learn.org. See: https://github.com/scikit-learn/scikit-learn/issues/21755 */display: inline-block !important;position: relative;}#sk-container-id-14 div.sk-text-repr-fallback {display: none;}</style><div id=\"sk-container-id-14\" class=\"sk-top-container\"><div class=\"sk-text-repr-fallback\"><pre>DecisionTreeClassifier()</pre><b>In a Jupyter environment, please rerun this cell to show the HTML representation or trust the notebook. <br />On GitHub, the HTML representation is unable to render, please try loading this page with nbviewer.org.</b></div><div class=\"sk-container\" hidden><div class=\"sk-item\"><div class=\"sk-estimator sk-toggleable\"><input class=\"sk-toggleable__control sk-hidden--visually\" id=\"sk-estimator-id-14\" type=\"checkbox\" checked><label for=\"sk-estimator-id-14\" class=\"sk-toggleable__label sk-toggleable__label-arrow\">DecisionTreeClassifier</label><div class=\"sk-toggleable__content\"><pre>DecisionTreeClassifier()</pre></div></div></div></div></div>"
            ],
            "text/plain": [
              "DecisionTreeClassifier()"
            ]
          },
          "execution_count": 202,
          "metadata": {},
          "output_type": "execute_result"
        }
      ],
      "source": [
        "model2 = DecisionTreeClassifier()\n",
        "model2.fit(X1_train, y1_train)"
      ]
    },
    {
      "cell_type": "code",
      "execution_count": null,
      "id": "d82726d1",
      "metadata": {
        "id": "d82726d1"
      },
      "outputs": [],
      "source": [
        "predictions_2=model2.predict(X1_test)"
      ]
    },
    {
      "cell_type": "code",
      "execution_count": null,
      "id": "efa384d5",
      "metadata": {
        "id": "efa384d5",
        "outputId": "9c174bf5-7be7-46e5-bbd4-a7b957156172"
      },
      "outputs": [
        {
          "data": {
            "text/plain": [
              "0.7077922077922078"
            ]
          },
          "execution_count": 204,
          "metadata": {},
          "output_type": "execute_result"
        }
      ],
      "source": [
        "\n",
        "score2=accuracy_score(y1_test,predictions_2)\n",
        "score2"
      ]
    },
    {
      "cell_type": "markdown",
      "id": "ff8057bb",
      "metadata": {
        "id": "ff8057bb"
      },
      "source": [
        "Accuracy score of DecisionTree is 0.70"
      ]
    },
    {
      "cell_type": "code",
      "execution_count": null,
      "id": "cba88f54",
      "metadata": {
        "id": "cba88f54",
        "outputId": "c986f1d2-3a7b-49dc-85a8-757b025048ba"
      },
      "outputs": [
        {
          "name": "stdout",
          "output_type": "stream",
          "text": [
            "[[77 22]\n",
            " [23 32]]\n",
            "              precision    recall  f1-score   support\n",
            "\n",
            "           0       0.77      0.78      0.77        99\n",
            "           1       0.59      0.58      0.59        55\n",
            "\n",
            "    accuracy                           0.71       154\n",
            "   macro avg       0.68      0.68      0.68       154\n",
            "weighted avg       0.71      0.71      0.71       154\n",
            "\n"
          ]
        }
      ],
      "source": [
        "from sklearn.metrics import classification_report, confusion_matrix\n",
        "\n",
        "print(confusion_matrix(y_test, predictions_2))\n",
        "print(classification_report(y1_test,predictions_2))"
      ]
    },
    {
      "cell_type": "markdown",
      "id": "99a6b005",
      "metadata": {
        "id": "99a6b005"
      },
      "source": [
        "Building Artificial Neural Network Model"
      ]
    },
    {
      "cell_type": "code",
      "execution_count": null,
      "id": "31365ee1",
      "metadata": {
        "id": "31365ee1"
      },
      "outputs": [],
      "source": [
        "# Libraries From Pytorch\n",
        "import torch\n",
        "import torch.nn as nn\n",
        "import torch.nn.functional as F\n"
      ]
    },
    {
      "cell_type": "code",
      "execution_count": null,
      "id": "de74b604",
      "metadata": {
        "id": "de74b604"
      },
      "outputs": [],
      "source": [
        "X=df.drop('Outcome',axis=1).values   #independent features\n",
        "y=df['Outcome'].values  #dependent features"
      ]
    },
    {
      "cell_type": "code",
      "execution_count": null,
      "id": "b970752c",
      "metadata": {
        "id": "b970752c"
      },
      "outputs": [],
      "source": [
        "X_train,X_test,y_train,y_test=train_test_split(X,y,test_size=0.2,random_state=42)"
      ]
    },
    {
      "cell_type": "code",
      "execution_count": null,
      "id": "1a15bd8c",
      "metadata": {
        "id": "1a15bd8c"
      },
      "outputs": [],
      "source": [
        "#Creating Tensors\n",
        "X_train=torch.FloatTensor(X_train) # converting Independent features into float\n",
        "X_test=torch.FloatTensor(X_test)\n",
        "y_train=torch.LongTensor(y_train) # Dependent features do not require to be floating value. \n",
        "y_test=torch.LongTensor(y_test)\n"
      ]
    },
    {
      "cell_type": "code",
      "execution_count": null,
      "id": "95be9250",
      "metadata": {
        "id": "95be9250",
        "outputId": "658095aa-0357-43e0-9b13-f93df09be088"
      },
      "outputs": [
        {
          "data": {
            "text/plain": [
              "tensor([[  2.0000,  84.0000,   0.0000,  ...,   0.0000,   0.3040,  21.0000],\n",
              "        [  9.0000, 112.0000,  82.0000,  ...,  28.2000,   1.2820,  50.0000],\n",
              "        [  1.0000, 139.0000,  46.0000,  ...,  28.7000,   0.6540,  22.0000],\n",
              "        ...,\n",
              "        [ 10.0000, 101.0000,  86.0000,  ...,  45.6000,   1.1360,  38.0000],\n",
              "        [  0.0000, 141.0000,   0.0000,  ...,  42.4000,   0.2050,  29.0000],\n",
              "        [  0.0000, 125.0000,  96.0000,  ...,  22.5000,   0.2620,  21.0000]])"
            ]
          },
          "execution_count": 135,
          "metadata": {},
          "output_type": "execute_result"
        }
      ],
      "source": [
        "X_train"
      ]
    },
    {
      "cell_type": "code",
      "execution_count": null,
      "id": "9bf8a44f",
      "metadata": {
        "id": "9bf8a44f"
      },
      "outputs": [],
      "source": [
        "# Creating Model\n",
        "\n",
        "class ANN_Model(nn.Module):\n",
        "    def __init__(self,input_features=8,hidden1=20,hidden2=20,out_features=2):\n",
        "        super().__init__() # inheriting parent class nn.module\n",
        "        self.f_connected1=nn.Linear(input_features,hidden1) #Fully connected hidden layer 1\n",
        "        self.f_connected2=nn.Linear(hidden1,hidden2) #Fully connected hidden layer 2\n",
        "        self.out=nn.Linear(hidden2,out_features) # outcome layer\n",
        "    def forward(self,x):  # Forward Propagation\n",
        "        x=F.relu(self.f_connected1(x)) # applying Relu activation function\n",
        "        x=F.relu(self.f_connected2(x))\n",
        "        x=self.out(x)\n",
        "        return x\n"
      ]
    },
    {
      "cell_type": "markdown",
      "id": "05f88d73",
      "metadata": {
        "id": "05f88d73"
      },
      "source": [
        "Forward Propagation tracks the gradient descent and all backward propagation.Applying Relu activation function to Fully connected layer 1 and Fully connected layer 2."
      ]
    },
    {
      "cell_type": "code",
      "execution_count": null,
      "id": "5188f5db",
      "metadata": {
        "id": "5188f5db"
      },
      "outputs": [],
      "source": [
        "# Inside init function we require Input Layers,multiple hidden layers  and output layers."
      ]
    },
    {
      "cell_type": "code",
      "execution_count": null,
      "id": "53dfcb4c",
      "metadata": {
        "id": "53dfcb4c"
      },
      "outputs": [],
      "source": [
        "#instantiating ANN_model\n",
        "torch.manual_seed(20) # initial weights \n",
        "model=ANN_Model()\n"
      ]
    },
    {
      "cell_type": "code",
      "execution_count": null,
      "id": "d63bd004",
      "metadata": {
        "id": "d63bd004",
        "outputId": "f873e5c7-da22-47ac-9cde-662ea164d307"
      },
      "outputs": [
        {
          "data": {
            "text/plain": [
              "<bound method Module.parameters of ANN_Model(\n",
              "  (f_connected1): Linear(in_features=8, out_features=20, bias=True)\n",
              "  (f_connected2): Linear(in_features=20, out_features=20, bias=True)\n",
              "  (out): Linear(in_features=20, out_features=2, bias=True)\n",
              ")>"
            ]
          },
          "execution_count": 138,
          "metadata": {},
          "output_type": "execute_result"
        }
      ],
      "source": [
        "model.parameters"
      ]
    },
    {
      "cell_type": "markdown",
      "id": "c6d88654",
      "metadata": {
        "id": "c6d88654"
      },
      "source": [
        "In Backward Propagation we need to define loss function and the optimizer.We are using optimizers because to reduce the error between actual and predicted values of loss function."
      ]
    },
    {
      "cell_type": "code",
      "execution_count": null,
      "id": "64de9425",
      "metadata": {
        "id": "64de9425"
      },
      "outputs": [],
      "source": [
        "loss_function=nn.CrossEntropyLoss()\n",
        "optimizer=torch.optim.Adam(model.parameters(),lr=0.01)\n"
      ]
    },
    {
      "cell_type": "markdown",
      "id": "69dcd053",
      "metadata": {
        "id": "69dcd053"
      },
      "source": [
        "Multi-class-classification we are using CrossEntropyloss() to measure how well our model performs.The main goal is to get our model close to 0 as possible."
      ]
    },
    {
      "cell_type": "code",
      "execution_count": null,
      "id": "80855f89",
      "metadata": {
        "id": "80855f89",
        "outputId": "9acdd6ad-725c-4cf3-d7d6-7b3aa724b827"
      },
      "outputs": [
        {
          "name": "stdout",
          "output_type": "stream",
          "text": [
            "Epoch number: 1 and the loss : 3.436734199523926\n",
            "Epoch number: 11 and the loss : 0.7937090396881104\n",
            "Epoch number: 21 and the loss : 0.600810170173645\n",
            "Epoch number: 31 and the loss : 0.5868991017341614\n",
            "Epoch number: 41 and the loss : 0.5716009140014648\n",
            "Epoch number: 51 and the loss : 0.5585745573043823\n",
            "Epoch number: 61 and the loss : 0.5484763383865356\n",
            "Epoch number: 71 and the loss : 0.5397630333900452\n",
            "Epoch number: 81 and the loss : 0.5324784517288208\n",
            "Epoch number: 91 and the loss : 0.5249089598655701\n",
            "Epoch number: 101 and the loss : 0.518044114112854\n",
            "Epoch number: 111 and the loss : 0.5113544464111328\n",
            "Epoch number: 121 and the loss : 0.5039476752281189\n",
            "Epoch number: 131 and the loss : 0.49674227833747864\n",
            "Epoch number: 141 and the loss : 0.48729294538497925\n",
            "Epoch number: 151 and the loss : 0.4809300899505615\n",
            "Epoch number: 161 and the loss : 0.47318822145462036\n",
            "Epoch number: 171 and the loss : 0.4668591022491455\n",
            "Epoch number: 181 and the loss : 0.46090608835220337\n",
            "Epoch number: 191 and the loss : 0.4549429416656494\n",
            "Epoch number: 201 and the loss : 0.4497878849506378\n",
            "Epoch number: 211 and the loss : 0.441694438457489\n",
            "Epoch number: 221 and the loss : 0.4359106123447418\n",
            "Epoch number: 231 and the loss : 0.42973393201828003\n",
            "Epoch number: 241 and the loss : 0.4391458034515381\n",
            "Epoch number: 251 and the loss : 0.4212735593318939\n",
            "Epoch number: 261 and the loss : 0.41300737857818604\n",
            "Epoch number: 271 and the loss : 0.4039052426815033\n",
            "Epoch number: 281 and the loss : 0.42830318212509155\n",
            "Epoch number: 291 and the loss : 0.39069047570228577\n",
            "Epoch number: 301 and the loss : 0.38645219802856445\n",
            "Epoch number: 311 and the loss : 0.40951254963874817\n",
            "Epoch number: 321 and the loss : 0.38146185874938965\n",
            "Epoch number: 331 and the loss : 0.37411099672317505\n",
            "Epoch number: 341 and the loss : 0.37239351868629456\n",
            "Epoch number: 351 and the loss : 0.36766475439071655\n",
            "Epoch number: 361 and the loss : 0.3565361797809601\n",
            "Epoch number: 371 and the loss : 0.4310876727104187\n",
            "Epoch number: 381 and the loss : 0.38354259729385376\n",
            "Epoch number: 391 and the loss : 0.37473076581954956\n",
            "Epoch number: 401 and the loss : 0.36500418186187744\n",
            "Epoch number: 411 and the loss : 0.3566708564758301\n",
            "Epoch number: 421 and the loss : 0.3526279926300049\n",
            "Epoch number: 431 and the loss : 0.381623774766922\n",
            "Epoch number: 441 and the loss : 0.3655987083911896\n",
            "Epoch number: 451 and the loss : 0.34503960609436035\n",
            "Epoch number: 461 and the loss : 0.3519497811794281\n",
            "Epoch number: 471 and the loss : 0.35433074831962585\n",
            "Epoch number: 481 and the loss : 0.3700750768184662\n",
            "Epoch number: 491 and the loss : 0.3493771255016327\n"
          ]
        }
      ],
      "source": [
        "epochs=500\n",
        "final_losses=[] # storing all losses values\n",
        "for i in range(epochs):\n",
        "    i=i+1\n",
        "    y_pred=model.forward(X_train)\n",
        "    loss=loss_function(y_pred,y_train)\n",
        "    final_losses.append(loss)\n",
        "    if i%10==1:    # for every 10 epochs we are printing the loss\n",
        "        print(\"Epoch number: {} and the loss : {}\".format(i,loss.item()))\n",
        "    optimizer.zero_grad() # to reduce the loss value we are using zero_grad.It clears the gardients of all optimized class. \n",
        "    loss.backward() # Back propagate to find the derivate which we see in the previous class\n",
        "    optimizer.step() \n"
      ]
    },
    {
      "cell_type": "code",
      "execution_count": null,
      "id": "bc79ad9a",
      "metadata": {
        "id": "bc79ad9a",
        "outputId": "b20aed38-15a1-4d58-900c-2a1e5b1daba1"
      },
      "outputs": [
        {
          "name": "stdout",
          "output_type": "stream",
          "text": [
            "1\n",
            "0\n",
            "0\n",
            "0\n",
            "1\n",
            "1\n",
            "0\n",
            "0\n",
            "1\n",
            "0\n",
            "0\n",
            "1\n",
            "0\n",
            "0\n",
            "0\n",
            "0\n",
            "0\n",
            "0\n",
            "1\n",
            "0\n",
            "0\n",
            "0\n",
            "1\n",
            "0\n",
            "0\n",
            "1\n",
            "0\n",
            "0\n",
            "0\n",
            "0\n",
            "1\n",
            "1\n",
            "1\n",
            "1\n",
            "1\n",
            "1\n",
            "1\n",
            "0\n",
            "0\n",
            "1\n",
            "0\n",
            "0\n",
            "1\n",
            "0\n",
            "0\n",
            "1\n",
            "1\n",
            "0\n",
            "0\n",
            "1\n",
            "0\n",
            "1\n",
            "1\n",
            "0\n",
            "0\n",
            "0\n",
            "0\n",
            "0\n",
            "0\n",
            "1\n",
            "1\n",
            "0\n",
            "0\n",
            "0\n",
            "0\n",
            "1\n",
            "0\n",
            "0\n",
            "0\n",
            "0\n",
            "1\n",
            "0\n",
            "0\n",
            "0\n",
            "0\n",
            "0\n",
            "0\n",
            "0\n",
            "0\n",
            "0\n",
            "1\n",
            "0\n",
            "0\n",
            "0\n",
            "0\n",
            "1\n",
            "1\n",
            "0\n",
            "0\n",
            "0\n",
            "0\n",
            "0\n",
            "0\n",
            "0\n",
            "0\n",
            "1\n",
            "0\n",
            "0\n",
            "0\n",
            "0\n",
            "0\n",
            "0\n",
            "1\n",
            "0\n",
            "1\n",
            "0\n",
            "0\n",
            "1\n",
            "0\n",
            "1\n",
            "0\n",
            "0\n",
            "0\n",
            "0\n",
            "0\n",
            "0\n",
            "1\n",
            "0\n",
            "0\n",
            "1\n",
            "0\n",
            "0\n",
            "0\n",
            "0\n",
            "0\n",
            "0\n",
            "0\n",
            "1\n",
            "1\n",
            "1\n",
            "1\n",
            "1\n",
            "0\n",
            "1\n",
            "1\n",
            "0\n",
            "0\n",
            "1\n",
            "0\n",
            "0\n",
            "0\n",
            "0\n",
            "0\n",
            "0\n",
            "0\n",
            "0\n",
            "0\n",
            "0\n",
            "0\n",
            "1\n",
            "0\n",
            "0\n",
            "0\n",
            "0\n"
          ]
        }
      ],
      "source": [
        "# Prediction In X_test data\n",
        "predictions=[]\n",
        "with torch.no_grad():#while evaluating the results we do not require gardients.\n",
        "    for i,data in enumerate(X_test): #enumerate will help to iterate the values in X_test data\n",
        "        y_pred=model(data)\n",
        "        predictions.append(y_pred.argmax().item()) \n",
        "        print(y_pred.argmax().item()) # argmax() gives the maximum value from y_pred either 0 or 1\n"
      ]
    },
    {
      "cell_type": "code",
      "execution_count": null,
      "id": "1c651fe8",
      "metadata": {
        "id": "1c651fe8",
        "outputId": "b7cc0a18-b0be-4b04-af4b-0ff61b507a6e"
      },
      "outputs": [
        {
          "data": {
            "text/plain": [
              "array([[85, 14],\n",
              "       [24, 31]])"
            ]
          },
          "execution_count": 144,
          "metadata": {},
          "output_type": "execute_result"
        }
      ],
      "source": [
        "# Comparing the X_test and y_test using confusion matrix\n",
        "from sklearn.metrics import confusion_matrix\n",
        "cm=confusion_matrix(y_test,predictions)\n",
        "cm\n"
      ]
    },
    {
      "cell_type": "markdown",
      "id": "175e663d",
      "metadata": {
        "id": "175e663d"
      },
      "source": [
        "85 and 31 are right results and 24 and 14 are our wrong results."
      ]
    },
    {
      "cell_type": "code",
      "execution_count": null,
      "id": "3b751aa1",
      "metadata": {
        "id": "3b751aa1",
        "outputId": "11994a22-f383-454f-aac0-0c8707e208af"
      },
      "outputs": [
        {
          "data": {
            "text/plain": [
              "Text(95.72222222222221, 0.5, 'Predicted Values')"
            ]
          },
          "execution_count": 145,
          "metadata": {},
          "output_type": "execute_result"
        },
        {
          "data": {
            "image/png": "[encoded data removed]",
            "text/plain": [
              "<Figure size 1000x600 with 2 Axes>"
            ]
          },
          "metadata": {},
          "output_type": "display_data"
        }
      ],
      "source": [
        "plt.figure(figsize=(10,6))\n",
        "sns.heatmap(cm,annot=True)\n",
        "plt.xlabel('Actual Values')\n",
        "plt.ylabel('Predicted Values')\n"
      ]
    },
    {
      "cell_type": "code",
      "execution_count": null,
      "id": "39c0efed",
      "metadata": {
        "id": "39c0efed"
      },
      "outputs": [],
      "source": [
        "#85- true positive \n",
        "#31 -true negative\n",
        "#14-false positive\n",
        "#24-false negative"
      ]
    },
    {
      "cell_type": "code",
      "execution_count": null,
      "id": "a9ada646",
      "metadata": {
        "id": "a9ada646",
        "outputId": "7f939218-bb41-4830-d042-93099f28b6b0"
      },
      "outputs": [
        {
          "data": {
            "text/plain": [
              "0.7532467532467533"
            ]
          },
          "execution_count": 177,
          "metadata": {},
          "output_type": "execute_result"
        }
      ],
      "source": [
        "from sklearn.metrics import accuracy_score\n",
        "score=accuracy_score(y_test,predictions)\n",
        "score"
      ]
    },
    {
      "cell_type": "markdown",
      "id": "54e73a30",
      "metadata": {
        "id": "54e73a30"
      },
      "source": [
        "Accuracy score for ANN is 0.75"
      ]
    },
    {
      "cell_type": "markdown",
      "id": "e864094f",
      "metadata": {
        "id": "e864094f"
      },
      "source": [
        "With the 4th patients data we are finding the whether our ANN model prediction is correct."
      ]
    },
    {
      "cell_type": "code",
      "execution_count": null,
      "id": "cf6bc74d",
      "metadata": {
        "id": "cf6bc74d"
      },
      "outputs": [],
      "source": [
        "list1=[0,137,40,35,168,43.1,2.228,33] #4th patient data\n",
        "new_data1=torch.tensor(list1)"
      ]
    },
    {
      "cell_type": "code",
      "execution_count": null,
      "id": "7e66af0a",
      "metadata": {
        "id": "7e66af0a",
        "outputId": "e4c49b0f-1522-4026-f80f-7cc374a5d7cb"
      },
      "outputs": [
        {
          "name": "stdout",
          "output_type": "stream",
          "text": [
            "tensor([-0.6495,  0.4802])\n",
            "1\n"
          ]
        }
      ],
      "source": [
        "with torch.no_grad():\n",
        "    print(model(new_data1))\n",
        "    print(model(new_data1).argmax().item())"
      ]
    },
    {
      "cell_type": "markdown",
      "id": "24187108",
      "metadata": {
        "id": "24187108"
      },
      "source": [
        "Predicted value is 1 means the patient is diabetic. if we check the dataset then the output of our ANN model prediction is correct."
      ]
    },
    {
      "cell_type": "code",
      "execution_count": null,
      "id": "8e5a50fd",
      "metadata": {
        "id": "8e5a50fd",
        "outputId": "fc9b8035-9d22-4882-80da-5bbc2347c589"
      },
      "outputs": [
        {
          "data": {
            "text/html": [
              "<div>\n",
              "<style scoped>\n",
              "    .dataframe tbody tr th:only-of-type {\n",
              "        vertical-align: middle;\n",
              "    }\n",
              "\n",
              "    .dataframe tbody tr th {\n",
              "        vertical-align: top;\n",
              "    }\n",
              "\n",
              "    .dataframe thead th {\n",
              "        text-align: right;\n",
              "    }\n",
              "</style>\n",
              "<table border=\"1\" class=\"dataframe\">\n",
              "  <thead>\n",
              "    <tr style=\"text-align: right;\">\n",
              "      <th></th>\n",
              "      <th>Pregnancies</th>\n",
              "      <th>Glucose</th>\n",
              "      <th>BloodPressure</th>\n",
              "      <th>SkinThickness</th>\n",
              "      <th>Insulin</th>\n",
              "      <th>BMI</th>\n",
              "      <th>DiabetesPedigreeFunction</th>\n",
              "      <th>Age</th>\n",
              "      <th>Outcome</th>\n",
              "    </tr>\n",
              "  </thead>\n",
              "  <tbody>\n",
              "    <tr>\n",
              "      <th>0</th>\n",
              "      <td>6</td>\n",
              "      <td>148</td>\n",
              "      <td>72</td>\n",
              "      <td>35</td>\n",
              "      <td>0</td>\n",
              "      <td>33.6</td>\n",
              "      <td>0.627</td>\n",
              "      <td>50</td>\n",
              "      <td>1</td>\n",
              "    </tr>\n",
              "    <tr>\n",
              "      <th>1</th>\n",
              "      <td>1</td>\n",
              "      <td>85</td>\n",
              "      <td>66</td>\n",
              "      <td>29</td>\n",
              "      <td>0</td>\n",
              "      <td>26.6</td>\n",
              "      <td>0.351</td>\n",
              "      <td>31</td>\n",
              "      <td>0</td>\n",
              "    </tr>\n",
              "    <tr>\n",
              "      <th>2</th>\n",
              "      <td>8</td>\n",
              "      <td>183</td>\n",
              "      <td>64</td>\n",
              "      <td>0</td>\n",
              "      <td>0</td>\n",
              "      <td>23.3</td>\n",
              "      <td>0.672</td>\n",
              "      <td>32</td>\n",
              "      <td>1</td>\n",
              "    </tr>\n",
              "    <tr>\n",
              "      <th>3</th>\n",
              "      <td>1</td>\n",
              "      <td>89</td>\n",
              "      <td>66</td>\n",
              "      <td>23</td>\n",
              "      <td>94</td>\n",
              "      <td>28.1</td>\n",
              "      <td>0.167</td>\n",
              "      <td>21</td>\n",
              "      <td>0</td>\n",
              "    </tr>\n",
              "    <tr>\n",
              "      <th>4</th>\n",
              "      <td>0</td>\n",
              "      <td>137</td>\n",
              "      <td>40</td>\n",
              "      <td>35</td>\n",
              "      <td>168</td>\n",
              "      <td>43.1</td>\n",
              "      <td>2.288</td>\n",
              "      <td>33</td>\n",
              "      <td>1</td>\n",
              "    </tr>\n",
              "  </tbody>\n",
              "</table>\n",
              "</div>"
            ],
            "text/plain": [
              "   Pregnancies  Glucose  BloodPressure  SkinThickness  Insulin   BMI  \\\n",
              "0            6      148             72             35        0  33.6   \n",
              "1            1       85             66             29        0  26.6   \n",
              "2            8      183             64              0        0  23.3   \n",
              "3            1       89             66             23       94  28.1   \n",
              "4            0      137             40             35      168  43.1   \n",
              "\n",
              "   DiabetesPedigreeFunction  Age  Outcome  \n",
              "0                     0.627   50        1  \n",
              "1                     0.351   31        0  \n",
              "2                     0.672   32        1  \n",
              "3                     0.167   21        0  \n",
              "4                     2.288   33        1  "
            ]
          },
          "execution_count": 195,
          "metadata": {},
          "output_type": "execute_result"
        }
      ],
      "source": [
        "df.head(5)"
      ]
    },
    {
      "cell_type": "code",
      "execution_count": null,
      "id": "bec84b5a",
      "metadata": {
        "id": "bec84b5a"
      },
      "outputs": [],
      "source": [
        "list2=[10,101,76,48,180,32.9,0.171,63] #763 rd patient data\n",
        "new_data2=torch.tensor(list2)"
      ]
    },
    {
      "cell_type": "code",
      "execution_count": null,
      "id": "6fc6547b",
      "metadata": {
        "id": "6fc6547b",
        "outputId": "1000da68-2ea7-478b-a9b5-fafae6c7841d"
      },
      "outputs": [
        {
          "name": "stdout",
          "output_type": "stream",
          "text": [
            "tensor([ 4.5700, -8.4389])\n",
            "0\n"
          ]
        }
      ],
      "source": [
        "with torch.no_grad():\n",
        "    print(model(new_data2))\n",
        "    print(model(new_data2).argmax().item())"
      ]
    },
    {
      "cell_type": "markdown",
      "id": "bfdc0180",
      "metadata": {
        "id": "bfdc0180"
      },
      "source": [
        "Predicted value is 0 means the patient is not-diabetic. if we check the dataset then the output of our ANN model prediction is correct."
      ]
    },
    {
      "cell_type": "code",
      "execution_count": null,
      "id": "a21110db",
      "metadata": {
        "id": "a21110db",
        "outputId": "a9465d82-a7a0-4457-b575-9512d264f9c2"
      },
      "outputs": [
        {
          "data": {
            "text/html": [
              "<div>\n",
              "<style scoped>\n",
              "    .dataframe tbody tr th:only-of-type {\n",
              "        vertical-align: middle;\n",
              "    }\n",
              "\n",
              "    .dataframe tbody tr th {\n",
              "        vertical-align: top;\n",
              "    }\n",
              "\n",
              "    .dataframe thead th {\n",
              "        text-align: right;\n",
              "    }\n",
              "</style>\n",
              "<table border=\"1\" class=\"dataframe\">\n",
              "  <thead>\n",
              "    <tr style=\"text-align: right;\">\n",
              "      <th></th>\n",
              "      <th>Pregnancies</th>\n",
              "      <th>Glucose</th>\n",
              "      <th>BloodPressure</th>\n",
              "      <th>SkinThickness</th>\n",
              "      <th>Insulin</th>\n",
              "      <th>BMI</th>\n",
              "      <th>DiabetesPedigreeFunction</th>\n",
              "      <th>Age</th>\n",
              "      <th>Outcome</th>\n",
              "    </tr>\n",
              "  </thead>\n",
              "  <tbody>\n",
              "    <tr>\n",
              "      <th>763</th>\n",
              "      <td>10</td>\n",
              "      <td>101</td>\n",
              "      <td>76</td>\n",
              "      <td>48</td>\n",
              "      <td>180</td>\n",
              "      <td>32.9</td>\n",
              "      <td>0.171</td>\n",
              "      <td>63</td>\n",
              "      <td>0</td>\n",
              "    </tr>\n",
              "    <tr>\n",
              "      <th>764</th>\n",
              "      <td>2</td>\n",
              "      <td>122</td>\n",
              "      <td>70</td>\n",
              "      <td>27</td>\n",
              "      <td>0</td>\n",
              "      <td>36.8</td>\n",
              "      <td>0.340</td>\n",
              "      <td>27</td>\n",
              "      <td>0</td>\n",
              "    </tr>\n",
              "    <tr>\n",
              "      <th>765</th>\n",
              "      <td>5</td>\n",
              "      <td>121</td>\n",
              "      <td>72</td>\n",
              "      <td>23</td>\n",
              "      <td>112</td>\n",
              "      <td>26.2</td>\n",
              "      <td>0.245</td>\n",
              "      <td>30</td>\n",
              "      <td>0</td>\n",
              "    </tr>\n",
              "    <tr>\n",
              "      <th>766</th>\n",
              "      <td>1</td>\n",
              "      <td>126</td>\n",
              "      <td>60</td>\n",
              "      <td>0</td>\n",
              "      <td>0</td>\n",
              "      <td>30.1</td>\n",
              "      <td>0.349</td>\n",
              "      <td>47</td>\n",
              "      <td>1</td>\n",
              "    </tr>\n",
              "    <tr>\n",
              "      <th>767</th>\n",
              "      <td>1</td>\n",
              "      <td>93</td>\n",
              "      <td>70</td>\n",
              "      <td>31</td>\n",
              "      <td>0</td>\n",
              "      <td>30.4</td>\n",
              "      <td>0.315</td>\n",
              "      <td>23</td>\n",
              "      <td>0</td>\n",
              "    </tr>\n",
              "  </tbody>\n",
              "</table>\n",
              "</div>"
            ],
            "text/plain": [
              "     Pregnancies  Glucose  BloodPressure  SkinThickness  Insulin   BMI  \\\n",
              "763           10      101             76             48      180  32.9   \n",
              "764            2      122             70             27        0  36.8   \n",
              "765            5      121             72             23      112  26.2   \n",
              "766            1      126             60              0        0  30.1   \n",
              "767            1       93             70             31        0  30.4   \n",
              "\n",
              "     DiabetesPedigreeFunction  Age  Outcome  \n",
              "763                     0.171   63        0  \n",
              "764                     0.340   27        0  \n",
              "765                     0.245   30        0  \n",
              "766                     0.349   47        1  \n",
              "767                     0.315   23        0  "
            ]
          },
          "execution_count": 199,
          "metadata": {},
          "output_type": "execute_result"
        }
      ],
      "source": [
        "df.tail()"
      ]
    },
    {
      "cell_type": "markdown",
      "id": "2c3840fd",
      "metadata": {
        "id": "2c3840fd"
      },
      "source": [
        "### Conclusion"
      ]
    },
    {
      "cell_type": "markdown",
      "id": "3674b87b",
      "metadata": {
        "id": "3674b87b"
      },
      "source": [
        "Using these patient records we are able to build machine learning models to accurately predict whether our patients in dataset have diabetes or not.From the 3 algorithms used RandomForest accuracy score is 0.74 and decisiontree accuracy score is 0.70.For Artificial Neural Network Model the accuracy score is 0.75, i.e ANN has higher accuracy score compared with the other two Machine Learning Models.So we later checked our Predicted values with the ANN model and compared it with the Actual outcomes of the dataset given.We compared for the 4th patient and 763rd patient data.Our predicted results got matched with actual Outputs."
      ]
    }
  ],
  "metadata": {
    "kernelspec": {
      "display_name": "Python 3 (ipykernel)",
      "language": "python",
      "name": "python3"
    },
    "language_info": {
      "codemirror_mode": {
        "name": "ipython",
        "version": 3
      },
      "file_extension": ".py",
      "mimetype": "text/x-python",
      "name": "python",
      "nbconvert_exporter": "python",
      "pygments_lexer": "ipython3",
      "version": "3.9.13"
    },
    "colab": {
      "provenance": []
    }
  },
  "nbformat": 4,
  "nbformat_minor": 5
}